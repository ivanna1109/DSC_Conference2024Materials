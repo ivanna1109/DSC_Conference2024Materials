{
  "cells": [
    {
      "cell_type": "markdown",
      "metadata": {
        "id": "l1wv2ImOVtDC"
      },
      "source": [
        "## Comparing GNN Approaches in Molecule Identification"
      ]
    },
    {
      "cell_type": "code",
      "source": [
        "!pip install tensorflow==2.14.0"
      ],
      "metadata": {
        "colab": {
          "base_uri": "https://localhost:8080/"
        },
        "id": "_2h2axrKAmDI",
        "outputId": "5b39dbae-4c51-4f3f-8c8f-41472781e64d"
      },
      "execution_count": 3,
      "outputs": [
        {
          "output_type": "stream",
          "name": "stdout",
          "text": [
            "Collecting tensorflow==2.14.0\n",
            "  Using cached tensorflow-2.14.0-cp310-cp310-manylinux_2_17_x86_64.manylinux2014_x86_64.whl.metadata (4.1 kB)\n",
            "Requirement already satisfied: absl-py>=1.0.0 in /usr/local/lib/python3.10/dist-packages (from tensorflow==2.14.0) (1.4.0)\n",
            "Requirement already satisfied: astunparse>=1.6.0 in /usr/local/lib/python3.10/dist-packages (from tensorflow==2.14.0) (1.6.3)\n",
            "Requirement already satisfied: flatbuffers>=23.5.26 in /usr/local/lib/python3.10/dist-packages (from tensorflow==2.14.0) (24.3.25)\n",
            "Requirement already satisfied: gast!=0.5.0,!=0.5.1,!=0.5.2,>=0.2.1 in /usr/local/lib/python3.10/dist-packages (from tensorflow==2.14.0) (0.6.0)\n",
            "Requirement already satisfied: google-pasta>=0.1.1 in /usr/local/lib/python3.10/dist-packages (from tensorflow==2.14.0) (0.2.0)\n",
            "Requirement already satisfied: h5py>=2.9.0 in /usr/local/lib/python3.10/dist-packages (from tensorflow==2.14.0) (3.12.1)\n",
            "Requirement already satisfied: libclang>=13.0.0 in /usr/local/lib/python3.10/dist-packages (from tensorflow==2.14.0) (18.1.1)\n",
            "Requirement already satisfied: ml-dtypes==0.2.0 in /usr/local/lib/python3.10/dist-packages (from tensorflow==2.14.0) (0.2.0)\n",
            "Requirement already satisfied: numpy>=1.23.5 in /usr/local/lib/python3.10/dist-packages (from tensorflow==2.14.0) (1.26.4)\n",
            "Requirement already satisfied: opt-einsum>=2.3.2 in /usr/local/lib/python3.10/dist-packages (from tensorflow==2.14.0) (3.4.0)\n",
            "Requirement already satisfied: packaging in /usr/local/lib/python3.10/dist-packages (from tensorflow==2.14.0) (24.2)\n",
            "Requirement already satisfied: protobuf!=4.21.0,!=4.21.1,!=4.21.2,!=4.21.3,!=4.21.4,!=4.21.5,<5.0.0dev,>=3.20.3 in /usr/local/lib/python3.10/dist-packages (from tensorflow==2.14.0) (4.25.5)\n",
            "Requirement already satisfied: setuptools in /usr/local/lib/python3.10/dist-packages (from tensorflow==2.14.0) (75.1.0)\n",
            "Requirement already satisfied: six>=1.12.0 in /usr/local/lib/python3.10/dist-packages (from tensorflow==2.14.0) (1.16.0)\n",
            "Requirement already satisfied: termcolor>=1.1.0 in /usr/local/lib/python3.10/dist-packages (from tensorflow==2.14.0) (2.5.0)\n",
            "Requirement already satisfied: typing-extensions>=3.6.6 in /usr/local/lib/python3.10/dist-packages (from tensorflow==2.14.0) (4.12.2)\n",
            "Requirement already satisfied: wrapt<1.15,>=1.11.0 in /usr/local/lib/python3.10/dist-packages (from tensorflow==2.14.0) (1.14.1)\n",
            "Requirement already satisfied: tensorflow-io-gcs-filesystem>=0.23.1 in /usr/local/lib/python3.10/dist-packages (from tensorflow==2.14.0) (0.37.1)\n",
            "Requirement already satisfied: grpcio<2.0,>=1.24.3 in /usr/local/lib/python3.10/dist-packages (from tensorflow==2.14.0) (1.67.1)\n",
            "Requirement already satisfied: tensorboard<2.15,>=2.14 in /usr/local/lib/python3.10/dist-packages (from tensorflow==2.14.0) (2.14.1)\n",
            "Requirement already satisfied: tensorflow-estimator<2.15,>=2.14.0 in /usr/local/lib/python3.10/dist-packages (from tensorflow==2.14.0) (2.14.0)\n",
            "Requirement already satisfied: keras<2.15,>=2.14.0 in /usr/local/lib/python3.10/dist-packages (from tensorflow==2.14.0) (2.14.0)\n",
            "Requirement already satisfied: wheel<1.0,>=0.23.0 in /usr/local/lib/python3.10/dist-packages (from astunparse>=1.6.0->tensorflow==2.14.0) (0.45.0)\n",
            "Requirement already satisfied: google-auth<3,>=1.6.3 in /usr/local/lib/python3.10/dist-packages (from tensorboard<2.15,>=2.14->tensorflow==2.14.0) (2.27.0)\n",
            "Requirement already satisfied: google-auth-oauthlib<1.1,>=0.5 in /usr/local/lib/python3.10/dist-packages (from tensorboard<2.15,>=2.14->tensorflow==2.14.0) (1.0.0)\n",
            "Requirement already satisfied: markdown>=2.6.8 in /usr/local/lib/python3.10/dist-packages (from tensorboard<2.15,>=2.14->tensorflow==2.14.0) (3.7)\n",
            "Requirement already satisfied: requests<3,>=2.21.0 in /usr/local/lib/python3.10/dist-packages (from tensorboard<2.15,>=2.14->tensorflow==2.14.0) (2.32.3)\n",
            "Requirement already satisfied: tensorboard-data-server<0.8.0,>=0.7.0 in /usr/local/lib/python3.10/dist-packages (from tensorboard<2.15,>=2.14->tensorflow==2.14.0) (0.7.2)\n",
            "Requirement already satisfied: werkzeug>=1.0.1 in /usr/local/lib/python3.10/dist-packages (from tensorboard<2.15,>=2.14->tensorflow==2.14.0) (3.1.3)\n",
            "Requirement already satisfied: cachetools<6.0,>=2.0.0 in /usr/local/lib/python3.10/dist-packages (from google-auth<3,>=1.6.3->tensorboard<2.15,>=2.14->tensorflow==2.14.0) (5.5.0)\n",
            "Requirement already satisfied: pyasn1-modules>=0.2.1 in /usr/local/lib/python3.10/dist-packages (from google-auth<3,>=1.6.3->tensorboard<2.15,>=2.14->tensorflow==2.14.0) (0.4.1)\n",
            "Requirement already satisfied: rsa<5,>=3.1.4 in /usr/local/lib/python3.10/dist-packages (from google-auth<3,>=1.6.3->tensorboard<2.15,>=2.14->tensorflow==2.14.0) (4.9)\n",
            "Requirement already satisfied: requests-oauthlib>=0.7.0 in /usr/local/lib/python3.10/dist-packages (from google-auth-oauthlib<1.1,>=0.5->tensorboard<2.15,>=2.14->tensorflow==2.14.0) (1.3.1)\n",
            "Requirement already satisfied: charset-normalizer<4,>=2 in /usr/local/lib/python3.10/dist-packages (from requests<3,>=2.21.0->tensorboard<2.15,>=2.14->tensorflow==2.14.0) (3.4.0)\n",
            "Requirement already satisfied: idna<4,>=2.5 in /usr/local/lib/python3.10/dist-packages (from requests<3,>=2.21.0->tensorboard<2.15,>=2.14->tensorflow==2.14.0) (3.10)\n",
            "Requirement already satisfied: urllib3<3,>=1.21.1 in /usr/local/lib/python3.10/dist-packages (from requests<3,>=2.21.0->tensorboard<2.15,>=2.14->tensorflow==2.14.0) (2.2.3)\n",
            "Requirement already satisfied: certifi>=2017.4.17 in /usr/local/lib/python3.10/dist-packages (from requests<3,>=2.21.0->tensorboard<2.15,>=2.14->tensorflow==2.14.0) (2024.8.30)\n",
            "Requirement already satisfied: MarkupSafe>=2.1.1 in /usr/local/lib/python3.10/dist-packages (from werkzeug>=1.0.1->tensorboard<2.15,>=2.14->tensorflow==2.14.0) (3.0.2)\n",
            "Requirement already satisfied: pyasn1<0.7.0,>=0.4.6 in /usr/local/lib/python3.10/dist-packages (from pyasn1-modules>=0.2.1->google-auth<3,>=1.6.3->tensorboard<2.15,>=2.14->tensorflow==2.14.0) (0.6.1)\n",
            "Requirement already satisfied: oauthlib>=3.0.0 in /usr/local/lib/python3.10/dist-packages (from requests-oauthlib>=0.7.0->google-auth-oauthlib<1.1,>=0.5->tensorboard<2.15,>=2.14->tensorflow==2.14.0) (3.2.2)\n",
            "Using cached tensorflow-2.14.0-cp310-cp310-manylinux_2_17_x86_64.manylinux2014_x86_64.whl (489.8 MB)\n",
            "Installing collected packages: tensorflow\n",
            "\u001b[31mERROR: pip's dependency resolver does not currently take into account all the packages that are installed. This behaviour is the source of the following dependency conflicts.\n",
            "tf-keras 2.17.0 requires tensorflow<2.18,>=2.17, but you have tensorflow 2.14.0 which is incompatible.\u001b[0m\u001b[31m\n",
            "\u001b[0mSuccessfully installed tensorflow-2.14.0\n"
          ]
        }
      ]
    },
    {
      "cell_type": "code",
      "source": [
        "import tensorflow as tf\n",
        "print(tf.__version__)"
      ],
      "metadata": {
        "colab": {
          "base_uri": "https://localhost:8080/"
        },
        "id": "qqygCIdTA0J8",
        "outputId": "90aeebfa-c700-4328-d1ba-fbf680955fef"
      },
      "execution_count": 5,
      "outputs": [
        {
          "output_type": "stream",
          "name": "stdout",
          "text": [
            "2.14.0\n"
          ]
        }
      ]
    },
    {
      "cell_type": "code",
      "source": [
        "pip install spektral"
      ],
      "metadata": {
        "colab": {
          "base_uri": "https://localhost:8080/"
        },
        "id": "b2lK7fAwogZF",
        "outputId": "98d3685a-a3c8-417a-999a-ea4b1a680307"
      },
      "execution_count": 6,
      "outputs": [
        {
          "output_type": "stream",
          "name": "stdout",
          "text": [
            "Requirement already satisfied: spektral in /usr/local/lib/python3.10/dist-packages (1.3.1)\n",
            "Requirement already satisfied: joblib in /usr/local/lib/python3.10/dist-packages (from spektral) (1.4.2)\n",
            "Requirement already satisfied: lxml in /usr/local/lib/python3.10/dist-packages (from spektral) (5.3.0)\n",
            "Requirement already satisfied: networkx in /usr/local/lib/python3.10/dist-packages (from spektral) (3.4.2)\n",
            "Requirement already satisfied: numpy in /usr/local/lib/python3.10/dist-packages (from spektral) (1.26.4)\n",
            "Requirement already satisfied: pandas in /usr/local/lib/python3.10/dist-packages (from spektral) (2.2.2)\n",
            "Requirement already satisfied: requests in /usr/local/lib/python3.10/dist-packages (from spektral) (2.32.3)\n",
            "Requirement already satisfied: scikit-learn in /usr/local/lib/python3.10/dist-packages (from spektral) (1.5.2)\n",
            "Requirement already satisfied: scipy in /usr/local/lib/python3.10/dist-packages (from spektral) (1.13.1)\n",
            "Requirement already satisfied: tqdm in /usr/local/lib/python3.10/dist-packages (from spektral) (4.66.6)\n",
            "Requirement already satisfied: tensorflow>=2.2.0 in /usr/local/lib/python3.10/dist-packages (from spektral) (2.14.0)\n",
            "Requirement already satisfied: absl-py>=1.0.0 in /usr/local/lib/python3.10/dist-packages (from tensorflow>=2.2.0->spektral) (1.4.0)\n",
            "Requirement already satisfied: astunparse>=1.6.0 in /usr/local/lib/python3.10/dist-packages (from tensorflow>=2.2.0->spektral) (1.6.3)\n",
            "Requirement already satisfied: flatbuffers>=23.5.26 in /usr/local/lib/python3.10/dist-packages (from tensorflow>=2.2.0->spektral) (24.3.25)\n",
            "Requirement already satisfied: gast!=0.5.0,!=0.5.1,!=0.5.2,>=0.2.1 in /usr/local/lib/python3.10/dist-packages (from tensorflow>=2.2.0->spektral) (0.6.0)\n",
            "Requirement already satisfied: google-pasta>=0.1.1 in /usr/local/lib/python3.10/dist-packages (from tensorflow>=2.2.0->spektral) (0.2.0)\n",
            "Requirement already satisfied: h5py>=2.9.0 in /usr/local/lib/python3.10/dist-packages (from tensorflow>=2.2.0->spektral) (3.12.1)\n",
            "Requirement already satisfied: libclang>=13.0.0 in /usr/local/lib/python3.10/dist-packages (from tensorflow>=2.2.0->spektral) (18.1.1)\n",
            "Requirement already satisfied: ml-dtypes==0.2.0 in /usr/local/lib/python3.10/dist-packages (from tensorflow>=2.2.0->spektral) (0.2.0)\n",
            "Requirement already satisfied: opt-einsum>=2.3.2 in /usr/local/lib/python3.10/dist-packages (from tensorflow>=2.2.0->spektral) (3.4.0)\n",
            "Requirement already satisfied: packaging in /usr/local/lib/python3.10/dist-packages (from tensorflow>=2.2.0->spektral) (24.2)\n",
            "Requirement already satisfied: protobuf!=4.21.0,!=4.21.1,!=4.21.2,!=4.21.3,!=4.21.4,!=4.21.5,<5.0.0dev,>=3.20.3 in /usr/local/lib/python3.10/dist-packages (from tensorflow>=2.2.0->spektral) (4.25.5)\n",
            "Requirement already satisfied: setuptools in /usr/local/lib/python3.10/dist-packages (from tensorflow>=2.2.0->spektral) (75.1.0)\n",
            "Requirement already satisfied: six>=1.12.0 in /usr/local/lib/python3.10/dist-packages (from tensorflow>=2.2.0->spektral) (1.16.0)\n",
            "Requirement already satisfied: termcolor>=1.1.0 in /usr/local/lib/python3.10/dist-packages (from tensorflow>=2.2.0->spektral) (2.5.0)\n",
            "Requirement already satisfied: typing-extensions>=3.6.6 in /usr/local/lib/python3.10/dist-packages (from tensorflow>=2.2.0->spektral) (4.12.2)\n",
            "Requirement already satisfied: wrapt<1.15,>=1.11.0 in /usr/local/lib/python3.10/dist-packages (from tensorflow>=2.2.0->spektral) (1.14.1)\n",
            "Requirement already satisfied: tensorflow-io-gcs-filesystem>=0.23.1 in /usr/local/lib/python3.10/dist-packages (from tensorflow>=2.2.0->spektral) (0.37.1)\n",
            "Requirement already satisfied: grpcio<2.0,>=1.24.3 in /usr/local/lib/python3.10/dist-packages (from tensorflow>=2.2.0->spektral) (1.67.1)\n",
            "Requirement already satisfied: tensorboard<2.15,>=2.14 in /usr/local/lib/python3.10/dist-packages (from tensorflow>=2.2.0->spektral) (2.14.1)\n",
            "Requirement already satisfied: tensorflow-estimator<2.15,>=2.14.0 in /usr/local/lib/python3.10/dist-packages (from tensorflow>=2.2.0->spektral) (2.14.0)\n",
            "Requirement already satisfied: keras<2.15,>=2.14.0 in /usr/local/lib/python3.10/dist-packages (from tensorflow>=2.2.0->spektral) (2.14.0)\n",
            "Requirement already satisfied: python-dateutil>=2.8.2 in /usr/local/lib/python3.10/dist-packages (from pandas->spektral) (2.8.2)\n",
            "Requirement already satisfied: pytz>=2020.1 in /usr/local/lib/python3.10/dist-packages (from pandas->spektral) (2024.2)\n",
            "Requirement already satisfied: tzdata>=2022.7 in /usr/local/lib/python3.10/dist-packages (from pandas->spektral) (2024.2)\n",
            "Requirement already satisfied: charset-normalizer<4,>=2 in /usr/local/lib/python3.10/dist-packages (from requests->spektral) (3.4.0)\n",
            "Requirement already satisfied: idna<4,>=2.5 in /usr/local/lib/python3.10/dist-packages (from requests->spektral) (3.10)\n",
            "Requirement already satisfied: urllib3<3,>=1.21.1 in /usr/local/lib/python3.10/dist-packages (from requests->spektral) (2.2.3)\n",
            "Requirement already satisfied: certifi>=2017.4.17 in /usr/local/lib/python3.10/dist-packages (from requests->spektral) (2024.8.30)\n",
            "Requirement already satisfied: threadpoolctl>=3.1.0 in /usr/local/lib/python3.10/dist-packages (from scikit-learn->spektral) (3.5.0)\n",
            "Requirement already satisfied: wheel<1.0,>=0.23.0 in /usr/local/lib/python3.10/dist-packages (from astunparse>=1.6.0->tensorflow>=2.2.0->spektral) (0.45.0)\n",
            "Requirement already satisfied: google-auth<3,>=1.6.3 in /usr/local/lib/python3.10/dist-packages (from tensorboard<2.15,>=2.14->tensorflow>=2.2.0->spektral) (2.27.0)\n",
            "Requirement already satisfied: google-auth-oauthlib<1.1,>=0.5 in /usr/local/lib/python3.10/dist-packages (from tensorboard<2.15,>=2.14->tensorflow>=2.2.0->spektral) (1.0.0)\n",
            "Requirement already satisfied: markdown>=2.6.8 in /usr/local/lib/python3.10/dist-packages (from tensorboard<2.15,>=2.14->tensorflow>=2.2.0->spektral) (3.7)\n",
            "Requirement already satisfied: tensorboard-data-server<0.8.0,>=0.7.0 in /usr/local/lib/python3.10/dist-packages (from tensorboard<2.15,>=2.14->tensorflow>=2.2.0->spektral) (0.7.2)\n",
            "Requirement already satisfied: werkzeug>=1.0.1 in /usr/local/lib/python3.10/dist-packages (from tensorboard<2.15,>=2.14->tensorflow>=2.2.0->spektral) (3.1.3)\n",
            "Requirement already satisfied: cachetools<6.0,>=2.0.0 in /usr/local/lib/python3.10/dist-packages (from google-auth<3,>=1.6.3->tensorboard<2.15,>=2.14->tensorflow>=2.2.0->spektral) (5.5.0)\n",
            "Requirement already satisfied: pyasn1-modules>=0.2.1 in /usr/local/lib/python3.10/dist-packages (from google-auth<3,>=1.6.3->tensorboard<2.15,>=2.14->tensorflow>=2.2.0->spektral) (0.4.1)\n",
            "Requirement already satisfied: rsa<5,>=3.1.4 in /usr/local/lib/python3.10/dist-packages (from google-auth<3,>=1.6.3->tensorboard<2.15,>=2.14->tensorflow>=2.2.0->spektral) (4.9)\n",
            "Requirement already satisfied: requests-oauthlib>=0.7.0 in /usr/local/lib/python3.10/dist-packages (from google-auth-oauthlib<1.1,>=0.5->tensorboard<2.15,>=2.14->tensorflow>=2.2.0->spektral) (1.3.1)\n",
            "Requirement already satisfied: MarkupSafe>=2.1.1 in /usr/local/lib/python3.10/dist-packages (from werkzeug>=1.0.1->tensorboard<2.15,>=2.14->tensorflow>=2.2.0->spektral) (3.0.2)\n",
            "Requirement already satisfied: pyasn1<0.7.0,>=0.4.6 in /usr/local/lib/python3.10/dist-packages (from pyasn1-modules>=0.2.1->google-auth<3,>=1.6.3->tensorboard<2.15,>=2.14->tensorflow>=2.2.0->spektral) (0.6.1)\n",
            "Requirement already satisfied: oauthlib>=3.0.0 in /usr/local/lib/python3.10/dist-packages (from requests-oauthlib>=0.7.0->google-auth-oauthlib<1.1,>=0.5->tensorboard<2.15,>=2.14->tensorflow>=2.2.0->spektral) (3.2.2)\n"
          ]
        }
      ]
    },
    {
      "cell_type": "code",
      "source": [
        "pip install rdkit"
      ],
      "metadata": {
        "colab": {
          "base_uri": "https://localhost:8080/"
        },
        "id": "9VQ7lwZTV21F",
        "outputId": "4f14229b-3c96-4d24-d6d1-de6239af33c5"
      },
      "execution_count": 7,
      "outputs": [
        {
          "output_type": "stream",
          "name": "stdout",
          "text": [
            "Requirement already satisfied: rdkit in /usr/local/lib/python3.10/dist-packages (2024.3.6)\n",
            "Requirement already satisfied: numpy in /usr/local/lib/python3.10/dist-packages (from rdkit) (1.26.4)\n",
            "Requirement already satisfied: Pillow in /usr/local/lib/python3.10/dist-packages (from rdkit) (11.0.0)\n"
          ]
        }
      ]
    },
    {
      "cell_type": "markdown",
      "metadata": {
        "id": "0CimrPCyVtDL"
      },
      "source": [
        "Firstly, we will show how original data downloaded from CompTox database via scrapping tehnique is converted into graph format"
      ]
    },
    {
      "cell_type": "code",
      "execution_count": 8,
      "metadata": {
        "id": "PEXAgAKrVtDM"
      },
      "outputs": [],
      "source": [
        "from rdkit import Chem\n",
        "import networkx as nx\n",
        "import matplotlib.pyplot as plt\n",
        "import pandas as pd\n",
        "from rdkit.Chem import AllChem\n",
        "from rdkit import DataStructs\n",
        "from rdkit.Chem import Draw\n",
        "from rdkit import Chem, DataStructs\n",
        "from sklearn.preprocessing import OneHotEncoder\n",
        "from spektral.data import Graph, Dataset\n",
        "import numpy as np\n",
        "import os\n",
        "import h5py\n",
        "import random"
      ]
    },
    {
      "cell_type": "markdown",
      "metadata": {
        "id": "9_n7nNYfVtDQ"
      },
      "source": [
        "Cloning github repository where the original data is"
      ]
    },
    {
      "cell_type": "code",
      "source": [
        "!git clone https://github.com/ivanna1109/DSC_Conference2024Materials"
      ],
      "metadata": {
        "colab": {
          "base_uri": "https://localhost:8080/"
        },
        "id": "muQcQPnyVxoS",
        "outputId": "6b809ddd-c77c-49ad-d818-d712b6142479"
      },
      "execution_count": 9,
      "outputs": [
        {
          "output_type": "stream",
          "name": "stdout",
          "text": [
            "fatal: destination path 'DSC_Conference2024Materials' already exists and is not an empty directory.\n"
          ]
        }
      ]
    },
    {
      "cell_type": "code",
      "execution_count": 10,
      "metadata": {
        "id": "jG1z-IlDVtDR"
      },
      "outputs": [],
      "source": [
        "assays = [\n",
        "    \"ATG_PPARg_TRANS_dn\",\n",
        "    \"ATG_PPARg_TRANS_up\",\n",
        "    \"TOX21_PPARg_BLA_antagonist_ratio\",\n",
        "    \"TOX21_PPARg_BLA_Agonist_ratio\",\n",
        "    \"NVS_NR_hPPARg\",\n",
        "    \"ERF_ENZ_hCYP19A1_dn\",\n",
        "    \"NVS_ADME_hCYP19A1\",\n",
        "    \"NVS_ADME_hCYP19A1_Activator\",\n",
        "    \"TOX21_Aromatase_Inhibition\",\n",
        "    \"CEETOX_H295R_ESTRADIOL_dn\",\n",
        "    \"CEETOX_H295R_ESTRADIOL_noMTC_dn\",\n",
        "    \"CEETOX_H295R_ESTRADIOL_noMTC_up\",\n",
        "    \"CEETOX_H295R_ESTRADIOL_up\",\n",
        "    \"CEETOX_H295R_ESTRONE_dn\",\n",
        "    \"CEETOX_H295R_ESTRONE_noMTC_dn\",\n",
        "    \"CEETOX_H295R_ESTRONE_noMTC_up\",\n",
        "    \"CEETOX_H295R_ESTRONE_up\"\n",
        "]\n",
        "\n",
        "effects = [\n",
        "    \"dn\",\n",
        "    \"up\",\n",
        "    \"dn\",\n",
        "    \"up\",\n",
        "    \"dn\",\n",
        "    \"dn\",\n",
        "    \"dn\",\n",
        "    \"up\",\n",
        "    \"dn\",\n",
        "    \"dn\",\n",
        "    \"dn\",\n",
        "    \"up\",\n",
        "    \"up\",\n",
        "    \"dn\",\n",
        "    \"dn\",\n",
        "    \"up\",\n",
        "    \"up\"\n",
        "]"
      ]
    },
    {
      "cell_type": "markdown",
      "metadata": {
        "id": "FPCzAhRwVtDT"
      },
      "source": [
        "This code processes data on various biochemical tests (assays) and their results, combining them into several DataFrames. It also prepares data on SMILES strings (representations of molecules) and removes duplicates. In the end, we obtain a list of DataFrames (dfs) and a consolidated DataFrame with SMILES data (smiles)."
      ]
    },
    {
      "cell_type": "code",
      "execution_count": 11,
      "metadata": {
        "id": "rLvMfEWGVtDU"
      },
      "outputs": [],
      "source": [
        "# find all matching\n",
        "\n",
        "dfs = []\n",
        "smiles = []\n",
        "\n",
        "for assay, effect in zip(assays, effects):\n",
        "    path = f\"DSC_Conference2024Materials/data/{assay}.csv\"\n",
        "    df = pd.read_csv(path)\n",
        "    # print(df[\"smiles\"].isnull().sum())\n",
        "\n",
        "    s = df[[\"preferredName\", \"smiles\"]].copy()\n",
        "    s.index = s[\"preferredName\"]\n",
        "    del s[\"preferredName\"]\n",
        "    smiles.append(s)\n",
        "\n",
        "    df = df[[\"preferredName\", \"hitc\"]] # only leave these two columns\n",
        "\n",
        "    df = df[df[\"hitc\"] != -1] # 22.9.2022.: remove inconclusive results\n",
        "\n",
        "    df[f\"effect_{assay}\"] = -1 if effect == \"dn\" else 1\n",
        "\n",
        "    df[\"hitc\"] *= df[f\"effect_{assay}\"]\n",
        "\n",
        "    del df[f\"effect_{assay}\"]\n",
        "\n",
        "    df.index = df[\"preferredName\"]\n",
        "    del df[\"preferredName\"] # set index to name and remove the column name\n",
        "    df.columns = [assay] # set type (only remaining column) to name of assay\n",
        "\n",
        "    dfs.append(df)\n",
        "\n",
        "# save for later\n",
        "smiles = pd.concat(smiles, axis=0)\n",
        "smiles = smiles[~smiles.index.duplicated(keep='first')]"
      ]
    },
    {
      "cell_type": "code",
      "execution_count": 12,
      "metadata": {
        "colab": {
          "base_uri": "https://localhost:8080/",
          "height": 115
        },
        "id": "uz0T6b5iVtDY",
        "outputId": "ef14ba89-210b-48cc-c31b-2d284c373ece"
      },
      "outputs": [
        {
          "output_type": "execute_result",
          "data": {
            "text/plain": [
              "smiles    0\n",
              "dtype: int64"
            ],
            "text/html": [
              "<div>\n",
              "<style scoped>\n",
              "    .dataframe tbody tr th:only-of-type {\n",
              "        vertical-align: middle;\n",
              "    }\n",
              "\n",
              "    .dataframe tbody tr th {\n",
              "        vertical-align: top;\n",
              "    }\n",
              "\n",
              "    .dataframe thead th {\n",
              "        text-align: right;\n",
              "    }\n",
              "</style>\n",
              "<table border=\"1\" class=\"dataframe\">\n",
              "  <thead>\n",
              "    <tr style=\"text-align: right;\">\n",
              "      <th></th>\n",
              "      <th>0</th>\n",
              "    </tr>\n",
              "  </thead>\n",
              "  <tbody>\n",
              "    <tr>\n",
              "      <th>smiles</th>\n",
              "      <td>0</td>\n",
              "    </tr>\n",
              "  </tbody>\n",
              "</table>\n",
              "</div><br><label><b>dtype:</b> int64</label>"
            ]
          },
          "metadata": {},
          "execution_count": 12
        }
      ],
      "source": [
        "smiles.isnull().sum() # should be zero, all smiles are fixed"
      ]
    },
    {
      "cell_type": "code",
      "execution_count": 13,
      "metadata": {
        "colab": {
          "base_uri": "https://localhost:8080/",
          "height": 178
        },
        "id": "zhqWpQy7VtDb",
        "outputId": "85636a69-1dbe-424b-d39d-81dfbdd23592"
      },
      "outputs": [
        {
          "output_type": "execute_result",
          "data": {
            "text/plain": [
              "CEETOX_H295R_ESTRADIOL_up\n",
              "0                            514\n",
              "1                             58\n",
              "Name: count, dtype: int64"
            ],
            "text/html": [
              "<div>\n",
              "<style scoped>\n",
              "    .dataframe tbody tr th:only-of-type {\n",
              "        vertical-align: middle;\n",
              "    }\n",
              "\n",
              "    .dataframe tbody tr th {\n",
              "        vertical-align: top;\n",
              "    }\n",
              "\n",
              "    .dataframe thead th {\n",
              "        text-align: right;\n",
              "    }\n",
              "</style>\n",
              "<table border=\"1\" class=\"dataframe\">\n",
              "  <thead>\n",
              "    <tr style=\"text-align: right;\">\n",
              "      <th></th>\n",
              "      <th>count</th>\n",
              "    </tr>\n",
              "    <tr>\n",
              "      <th>CEETOX_H295R_ESTRADIOL_up</th>\n",
              "      <th></th>\n",
              "    </tr>\n",
              "  </thead>\n",
              "  <tbody>\n",
              "    <tr>\n",
              "      <th>0</th>\n",
              "      <td>514</td>\n",
              "    </tr>\n",
              "    <tr>\n",
              "      <th>1</th>\n",
              "      <td>58</td>\n",
              "    </tr>\n",
              "  </tbody>\n",
              "</table>\n",
              "</div><br><label><b>dtype:</b> int64</label>"
            ]
          },
          "metadata": {},
          "execution_count": 13
        }
      ],
      "source": [
        "dfs[12].value_counts() #example of one csv file in dataset"
      ]
    },
    {
      "cell_type": "markdown",
      "metadata": {
        "id": "mGkzjZnLVtDe"
      },
      "source": [
        "Method for converting smiles representation of molecule into graph structure"
      ]
    },
    {
      "cell_type": "code",
      "execution_count": 14,
      "metadata": {
        "id": "kUYMgn4MVtDf"
      },
      "outputs": [],
      "source": [
        "\n",
        "def smiles_to_graph(smiles_str, label):\n",
        "    mol = Chem.MolFromSmiles(smiles_str)\n",
        "    label_type = {\n",
        "        0: 'inactive',\n",
        "        1: 'partially active',\n",
        "        2: 'active'\n",
        "    }\n",
        "    G = nx.Graph(label=label_type.get(label, -1))\n",
        "\n",
        "    bond_type_mapping = {\n",
        "        Chem.BondType.SINGLE: 1,\n",
        "        Chem.BondType.DOUBLE: 2,\n",
        "        Chem.BondType.TRIPLE: 3,\n",
        "        Chem.BondType.AROMATIC: 4\n",
        "    }\n",
        "\n",
        "    for atom in mol.GetAtoms():\n",
        "        atom_idx = atom.GetIdx()\n",
        "        atom_symbol = atom.GetSymbol()\n",
        "        #print(f\"Simbol atoma {atom_symbol}\")\n",
        "        atom_degree = atom.GetDegree()\n",
        "        G.add_node(atom_idx, atom_label=str(atom_symbol), degree=atom_degree)\n",
        "\n",
        "    for bond in mol.GetBonds():\n",
        "        bond_type = bond.GetBondType()\n",
        "        encoded_bond_type = bond_type_mapping.get(bond_type, 0)\n",
        "        G.add_edge(bond.GetBeginAtomIdx(), bond.GetEndAtomIdx(), weight=encoded_bond_type, bond_type=encoded_bond_type)\n",
        "\n",
        "    return G"
      ]
    },
    {
      "cell_type": "code",
      "execution_count": 15,
      "metadata": {
        "id": "fjZ07YZzVtDh"
      },
      "outputs": [],
      "source": [
        "graphs_list = list()\n",
        "bad_smiles = []"
      ]
    },
    {
      "cell_type": "code",
      "execution_count": 16,
      "metadata": {
        "id": "HunHyZQ9VtDh"
      },
      "outputs": [],
      "source": [
        "def get_graph(row):\n",
        "    print(\"Processing row:\", row)\n",
        "    try:\n",
        "        molecule_label = 'active'\n",
        "        if row.label == 0: molecule_label = 'inactive'\n",
        "        elif row.label == 1: molecule_label = 'partially_active'\n",
        "        sm = smiles.loc[row.name, 'smiles']\n",
        "        print(f\"SMILES for {row.name} which is {molecule_label}: {sm}\")\n",
        "\n",
        "        if pd.isna(sm):\n",
        "            raise ValueError(\"SMILES string is NaN\")\n",
        "        graph = smiles_to_graph(sm, row.label)\n",
        "        graphs_list.append(graph)\n",
        "        return graph\n",
        "        \"\"\" all molecules are saved into separate gml files\n",
        "        gml_file = f\"molecules/molecule_{row.name}_{row.label}.gml\"\n",
        "        nx.write_gml(graph_smile, gml_file)\n",
        "        print(f\"Graf za {sm} sačuvan je u {gml_file}\")\n",
        "        \"\"\"\n",
        "    except Exception as e:\n",
        "        print(f\"Bad smiles string for {row.name}: {e}\")\n",
        "        bad_smiles.append(row.name)"
      ]
    },
    {
      "cell_type": "markdown",
      "source": [
        "Visualization of one molecule graph"
      ],
      "metadata": {
        "id": "S15mUpwJs51q"
      }
    },
    {
      "cell_type": "code",
      "execution_count": 17,
      "metadata": {
        "id": "LKxOamAdVtDi"
      },
      "outputs": [],
      "source": [
        "def visualize_graph(G):\n",
        "    plt.figure(figsize=(12, 6))\n",
        "    pos = nx.spring_layout(G)\n",
        "\n",
        "    nx.draw_networkx(G, pos, with_labels=False, node_color='lightblue', node_size=500, edge_color='gray')\n",
        "\n",
        "    node_labels = nx.get_node_attributes(G, 'atom_label')\n",
        "    nx.draw_networkx_labels(G, pos, labels=node_labels, font_size=12, font_color='black')\n",
        "\n",
        "    edge_labels = nx.get_edge_attributes(G, 'bond_type')\n",
        "    edge_labels_str = {\n",
        "        (u, v): {1: \"S\", 2: \"D\", 3: \"T\", 4: \"A\"}.get(edge_labels[(u, v)], \"Unknown\")\n",
        "        for u, v in edge_labels\n",
        "    }\n",
        "    nx.draw_networkx_edge_labels(G, pos, edge_labels=edge_labels_str, font_color='red')\n",
        "\n",
        "    graph_label = G.graph.get('label', 'No Label')\n",
        "    plt.text(0.5, 1.05, f\"Label: {graph_label}\", fontsize=15, ha='center', transform=plt.gca().transAxes)\n",
        "\n",
        "    plt.show()"
      ]
    },
    {
      "cell_type": "code",
      "execution_count": 18,
      "metadata": {
        "colab": {
          "base_uri": "https://localhost:8080/",
          "height": 1000
        },
        "id": "WiTvX6mBVtDj",
        "outputId": "ca8b0055-fa17-40f5-e987-9bf4fb65f234"
      },
      "outputs": [
        {
          "output_type": "stream",
          "name": "stderr",
          "text": [
            "<ipython-input-18-63c45b11a8d8>:9: SettingWithCopyWarning: \n",
            "A value is trying to be set on a copy of a slice from a DataFrame.\n",
            "Try using .loc[row_indexer,col_indexer] = value instead\n",
            "\n",
            "See the caveats in the documentation: https://pandas.pydata.org/pandas-docs/stable/user_guide/indexing.html#returning-a-view-versus-a-copy\n",
            "  assay[\"label\"] = np.where(assay[\"label\"] == 1, 2, assay[\"label\"]) # up\n",
            "<ipython-input-18-63c45b11a8d8>:10: SettingWithCopyWarning: \n",
            "A value is trying to be set on a copy of a slice from a DataFrame.\n",
            "Try using .loc[row_indexer,col_indexer] = value instead\n",
            "\n",
            "See the caveats in the documentation: https://pandas.pydata.org/pandas-docs/stable/user_guide/indexing.html#returning-a-view-versus-a-copy\n",
            "  assay[\"label\"] = np.where(assay[\"label\"] == -1, 1, assay[\"label\"]) # dn\n",
            "<ipython-input-18-63c45b11a8d8>:9: SettingWithCopyWarning: \n",
            "A value is trying to be set on a copy of a slice from a DataFrame.\n",
            "Try using .loc[row_indexer,col_indexer] = value instead\n",
            "\n",
            "See the caveats in the documentation: https://pandas.pydata.org/pandas-docs/stable/user_guide/indexing.html#returning-a-view-versus-a-copy\n",
            "  assay[\"label\"] = np.where(assay[\"label\"] == 1, 2, assay[\"label\"]) # up\n",
            "<ipython-input-18-63c45b11a8d8>:10: SettingWithCopyWarning: \n",
            "A value is trying to be set on a copy of a slice from a DataFrame.\n",
            "Try using .loc[row_indexer,col_indexer] = value instead\n",
            "\n",
            "See the caveats in the documentation: https://pandas.pydata.org/pandas-docs/stable/user_guide/indexing.html#returning-a-view-versus-a-copy\n",
            "  assay[\"label\"] = np.where(assay[\"label\"] == -1, 1, assay[\"label\"]) # dn\n"
          ]
        },
        {
          "output_type": "stream",
          "name": "stdout",
          "text": [
            "label\n",
            "0.0    21095\n",
            "2.0     1320\n",
            "1.0     1066\n",
            "Name: count, dtype: int64\n",
            "label\n",
            "0.0    7306\n",
            "1.0    1302\n",
            "2.0       3\n",
            "Name: count, dtype: int64\n",
            "Processing row: label    1.0\n",
            "Name: Tetrahydrocurcumin, dtype: float64\n",
            "SMILES for Tetrahydrocurcumin which is partially_active: COC1=CC(CCC(=O)CC(=O)CCC2=CC(OC)=C(O)C=C2)=CC=C1O\n"
          ]
        },
        {
          "output_type": "display_data",
          "data": {
            "text/plain": [
              "<Figure size 1200x600 with 1 Axes>"
            ],
            "image/png": "[encoded data removed]"
          },
          "metadata": {}
        },
        {
          "output_type": "stream",
          "name": "stdout",
          "text": [
            "ok: 1\n",
            "bad: []\n",
            "bad count: 0\n"
          ]
        }
      ],
      "source": [
        "plt_count = 1\n",
        "for assay, name in zip([pd.concat(dfs[0:5]), pd.concat(dfs[5:9]), pd.concat(dfs[9:17])],\n",
        "                       [\"ke1\", \"ke2\", \"ke3\"]):\n",
        "\n",
        "    assay[\"label\"] = assay.sum(axis=1)\n",
        "\n",
        "    assay = assay[[\"label\"]]\n",
        "\n",
        "    assay[\"label\"] = np.where(assay[\"label\"] == 1, 2, assay[\"label\"]) # up\n",
        "    assay[\"label\"] = np.where(assay[\"label\"] == -1, 1, assay[\"label\"]) # dn\n",
        "\n",
        "    print(assay[\"label\"].value_counts())\n",
        "\n",
        "    #assay.apply(lambda mol: get_graph(mol), axis=1)\n",
        "    molecule = assay.iloc[0]  # Take only one molecule for demonstration\n",
        "    if molecule.label == 1:\n",
        "        graph = get_graph(molecule)\n",
        "        visualize_graph(graph)\n",
        "\n",
        "        print(\"ok:\", len(graphs_list))\n",
        "        print(\"bad:\", bad_smiles)\n",
        "        print(\"bad count:\", len(bad_smiles))\n",
        "        break"
      ]
    },
    {
      "cell_type": "markdown",
      "source": [
        "Since we lack rich nodes features, we will generate some initial ones, using DeepWalk and Word2Vec techniques"
      ],
      "metadata": {
        "id": "iAQobTbjsay-"
      }
    },
    {
      "cell_type": "code",
      "source": [
        "def generate_random_walk(start_node, walk_length, graph): #geenrate one walk for molecule graph\n",
        "    walk_sequence = [str(start_node)]\n",
        "\n",
        "    for _ in range(walk_length):\n",
        "        neighbors = list(graph.neighbors(start_node))\n",
        "        if not neighbors:\n",
        "            break  # If node does not have neighbors, stop the walk\n",
        "        next_node = np.random.choice(neighbors)\n",
        "        walk_sequence.append(str(next_node))\n",
        "        start_node = next_node\n",
        "\n",
        "    return walk_sequence"
      ],
      "metadata": {
        "id": "XE1toTzjr28z"
      },
      "execution_count": 19,
      "outputs": []
    },
    {
      "cell_type": "code",
      "source": [
        "def generate_random_walks(graph, num_walks, walk_length):\n",
        "    walks = []\n",
        "\n",
        "    for _ in range(num_walks):\n",
        "        # Random choose starting node\n",
        "        start_node = np.random.choice(list(graph.nodes()))\n",
        "        # Generate one walk\n",
        "        walk = generate_random_walk(start_node, walk_length, graph)\n",
        "        walks.append(walk)\n",
        "\n",
        "    return walks"
      ],
      "metadata": {
        "id": "QTIHYQGVr5iB"
      },
      "execution_count": 20,
      "outputs": []
    },
    {
      "cell_type": "code",
      "source": [
        "from gensim.models import Word2Vec"
      ],
      "metadata": {
        "id": "CMCRiFRvviUD"
      },
      "execution_count": 21,
      "outputs": []
    },
    {
      "cell_type": "code",
      "source": [
        "def deepwalk_embedding(graphs, dimensions=64):\n",
        "    walks = []\n",
        "    for G in graphs:\n",
        "        walks.extend(list(generate_random_walks(G, num_walks=150, walk_length=35)))\n",
        "\n",
        "    model = Word2Vec(sentences=walks, vector_size=dimensions, window=5, min_count=0, sg=1, workers=4)\n",
        "    embeddings = [np.array([model.wv[str(node)] for node in G.nodes()]) for G in graphs]\n",
        "    return embeddings"
      ],
      "metadata": {
        "id": "HYdgLrnMsAiH"
      },
      "execution_count": 22,
      "outputs": []
    },
    {
      "cell_type": "code",
      "source": [
        "# 2. Add one-hot encoded atomic labels to node embeddings\n",
        "def add_element_features(graphs, embeddings, element_index):\n",
        "    X_with_elements = []\n",
        "    for G, embedding in zip(graphs, embeddings):\n",
        "        element_features = np.zeros((len(G.nodes()), len(element_index)))\n",
        "        for i, node in enumerate(G.nodes()):\n",
        "            element = G.nodes[node].get('atom_type', '*')\n",
        "            if element in element_index:\n",
        "                element_features[i, element_index[element]] = 1\n",
        "        combined_features = np.hstack([embedding, element_features])\n",
        "        X_with_elements.append(combined_features)\n",
        "    return X_with_elements"
      ],
      "metadata": {
        "id": "gO6XIHG-sEc1"
      },
      "execution_count": 23,
      "outputs": []
    },
    {
      "cell_type": "code",
      "source": [
        "\n",
        "elements = ['O', 'C', 'Au', 'Yb', 'Ba', 'Mo', 'Pd', 'Hg',\n",
        "            'H', 'Nd', 'Dy', 'Se', 'Co', 'Li', 'Br', 'Bi', 'Cr', 'Ge',\n",
        "              'Ag', 'Mg', 'Zr', 'Pt', 'Be', 'Ni', 'Cl', 'Gd', 'Sc', 'Tl',\n",
        "              'Zn', 'P', 'K', 'N', 'As', 'Ti', 'Sr', 'Sn', 'Na', 'Cd',\n",
        "              'Al', 'Cu', 'Si', 'F', 'Eu', 'Pb', 'Sb', 'V', 'S', 'Fe', 'B',\n",
        "              'I', 'Ca', 'In', 'Mn']  # This is all possible chemical elements that could occur in any molecule\n",
        "element_index = {elem: idx for idx, elem in enumerate(elements)}\n",
        "classes = {'inactive':0, 'partially active':1, 'active':2}\n",
        "nx_graphs = []\n",
        "labels = []\n",
        "adj_matrixs = []"
      ],
      "metadata": {
        "id": "uHYeeVHAkmkV"
      },
      "execution_count": 24,
      "outputs": []
    },
    {
      "cell_type": "markdown",
      "source": [
        "When we read graph from GML file, we extract information like adjacency matrix and label, and then do data augmentation using graph isomorphism for graphs that belonge to the minority class of activity (like partially active and active), it is some kind of oversampling using replication of the graph with modified adjacency matrix"
      ],
      "metadata": {
        "id": "ywbUvLJUzJdd"
      }
    },
    {
      "cell_type": "code",
      "source": [
        "gml_file ='DSC_Conference2024Materials/molecule_example/molecule_Tetrahydrocurcumin_1.0.gml'"
      ],
      "metadata": {
        "id": "TOCrW1bats0n"
      },
      "execution_count": 25,
      "outputs": []
    },
    {
      "cell_type": "code",
      "source": [
        "def generate_graphs(gml_file, nx_graphs, labels, adj_matrixs):\n",
        "    G = nx.read_gml(gml_file)\n",
        "    G.graph['molecule_name'] = os.path.basename(gml_file)[9:-8]\n",
        "    print(\"Graph loaded from folder\")\n",
        "    if all(deg >= 1 for node, deg in G.degree()):\n",
        "        nx_graphs.append(G)\n",
        "        labels.append(classes.get(G.graph.get('label')))\n",
        "        original_matrix = nx.adjacency_matrix(G).toarray()\n",
        "        adj_matrixs.append(original_matrix)\n",
        "        if (G.graph.get('label')=='active' or G.graph.get('label')=='partially active'):\n",
        "            range_gr = 4\n",
        "            if (G.graph.get('label')=='active'): range_gr = 5\n",
        "            for i in range(range_gr):\n",
        "                nodes = list(G.nodes)\n",
        "                random.shuffle(nodes)\n",
        "                mapping = {old_label: new_label for old_label, new_label in zip(G.nodes, nodes)}\n",
        "                G_iso = nx.relabel_nodes(G, mapping)\n",
        "                sorted_nodes = sorted(mapping.keys(), key=lambda x: mapping[x])\n",
        "                sorted_indices = [list(G.nodes).index(node) for node in sorted_nodes]\n",
        "                isomorphic_am = nx.adjacency_matrix(G_iso).toarray()\n",
        "                A_sorted = isomorphic_am[np.ix_(sorted_indices, sorted_indices)]\n",
        "                new_G_iso = nx.from_numpy_array(A_sorted)\n",
        "                node_labels = nx.get_node_attributes(G_iso, 'atom_label')\n",
        "\n",
        "                inverse_mapping = {v: k for k, v in mapping.items()}\n",
        "                for idx, node in enumerate(sorted_indices):\n",
        "                    #print(node_labels[str(node)])\n",
        "                    new_G_iso.nodes[node]['atom_label'] = node_labels[str(node)]\n",
        "                new_G_iso.graph['molecule_name'] = G.graph['molecule_name']\n",
        "                nx_graphs.append(new_G_iso)\n",
        "                labels.append(classes.get(G.graph.get('label')))\n",
        "                adj_matrixs.append(A_sorted)\n",
        "    print(\"Generated ismorphics graphs\")\n"
      ],
      "metadata": {
        "id": "yP4en8I-uAba"
      },
      "execution_count": 26,
      "outputs": []
    },
    {
      "cell_type": "code",
      "source": [
        "generate_graphs(gml_file, nx_graphs, labels, adj_matrixs)\n"
      ],
      "metadata": {
        "colab": {
          "base_uri": "https://localhost:8080/"
        },
        "id": "hJL25yrIv0P-",
        "outputId": "58310ceb-113d-4978-8366-6bc68dfe65da"
      },
      "execution_count": 27,
      "outputs": [
        {
          "output_type": "stream",
          "name": "stdout",
          "text": [
            "Graph loaded from folder\n",
            "Generated ismorphics graphs\n"
          ]
        }
      ]
    },
    {
      "cell_type": "code",
      "source": [
        "X_embeddings = deepwalk_embedding(nx_graphs)\n",
        "\n",
        "X_embeddings_with_elements = add_element_features(nx_graphs, X_embeddings, element_index)"
      ],
      "metadata": {
        "id": "BUY79iN0ueqf"
      },
      "execution_count": 28,
      "outputs": []
    },
    {
      "cell_type": "code",
      "source": [
        "print(type(nx_graphs[0]))"
      ],
      "metadata": {
        "colab": {
          "base_uri": "https://localhost:8080/"
        },
        "id": "3-3i6JQhw8Q3",
        "outputId": "3d4a230f-98bb-4209-8338-d7634c90b705"
      },
      "execution_count": 62,
      "outputs": [
        {
          "output_type": "stream",
          "name": "stdout",
          "text": [
            "<class 'networkx.classes.graph.Graph'>\n"
          ]
        }
      ]
    },
    {
      "cell_type": "markdown",
      "source": [
        "After we created node features embedding (aka graph embedding), we store them together with adjacency matrix, graph label (level of activity) and name of molecule into h5 file"
      ],
      "metadata": {
        "id": "gZFReCZXk079"
      }
    },
    {
      "cell_type": "code",
      "source": [
        "num_of_g = 0\n",
        "file_path = 'DSC_Conference2024Materials/graph_dataset/molecule_datasetAugmented.h5'\n",
        "with h5py.File(file_path, 'w') as f:\n",
        "    for i, graph in enumerate(nx_graphs):\n",
        "        grp = f.create_group(f'graph_{i}')\n",
        "        grp.create_dataset('x', data=X_embeddings_with_elements[i])\n",
        "        grp.create_dataset('a', data=adj_matrixs[i])\n",
        "        if num_of_g == 0:\n",
        "          print(\"Example of nodes feature vector: \\n\", X_embeddings_with_elements[i])\n",
        "          print(\"Shape of nodes feature vector: \", X_embeddings_with_elements[i].shape)\n",
        "          print(\"Example of adjacency matrix: \\n\", adj_matrixs[i])\n",
        "          print(\"Shape of adjacency matrix:\", adj_matrixs[i].shape)\n",
        "          print(\"-\"*56)\n",
        "        grp.create_dataset('y', data=labels[i])\n",
        "\n",
        "        grp.attrs['molecule_name'] = graph.graph.get('molecule_name')\n",
        "        num_of_g+=1\n",
        "\n",
        "print(\"Total number of saved graphs: \", num_of_g)"
      ],
      "metadata": {
        "colab": {
          "base_uri": "https://localhost:8080/"
        },
        "id": "yEHEXpxBupHk",
        "outputId": "0a77d340-46cb-4ac4-ea64-d660b65b679c"
      },
      "execution_count": 29,
      "outputs": [
        {
          "output_type": "stream",
          "name": "stdout",
          "text": [
            "Example of nodes feature vector: \n",
            " [[-0.17936368  0.31328335  0.21906547 ...  0.          0.\n",
            "   0.        ]\n",
            " [ 0.46021202  0.07413845  0.42520922 ...  0.          0.\n",
            "   0.        ]\n",
            " [ 0.09957044  0.00555571  0.36241835 ...  0.          0.\n",
            "   0.        ]\n",
            " ...\n",
            " [ 0.23128757 -0.1022665   0.34827787 ...  0.          0.\n",
            "   0.        ]\n",
            " [ 0.20856592 -0.15053061  0.40453929 ...  0.          0.\n",
            "   0.        ]\n",
            " [ 0.30629566  0.1181232   0.1962412  ...  0.          0.\n",
            "   0.        ]]\n",
            "Shape of nodes feature vector:  (27, 117)\n",
            "Example of adjacency matrix: \n",
            " [[0 1 0 0 0 0 0 0 0 0 0 0 0 0 0 0 0 0 0 0 0 0 0 0 0 0 0]\n",
            " [1 0 1 0 0 0 0 0 0 0 0 0 0 0 0 0 0 0 0 0 0 0 0 0 0 0 0]\n",
            " [0 1 0 4 0 0 0 0 0 0 0 0 0 0 0 0 0 0 0 0 0 0 0 0 0 4 0]\n",
            " [0 0 4 0 4 0 0 0 0 0 0 0 0 0 0 0 0 0 0 0 0 0 0 0 0 0 0]\n",
            " [0 0 0 4 0 1 0 0 0 0 0 0 0 0 0 0 0 0 0 0 0 0 0 4 0 0 0]\n",
            " [0 0 0 0 1 0 1 0 0 0 0 0 0 0 0 0 0 0 0 0 0 0 0 0 0 0 0]\n",
            " [0 0 0 0 0 1 0 1 0 0 0 0 0 0 0 0 0 0 0 0 0 0 0 0 0 0 0]\n",
            " [0 0 0 0 0 0 1 0 2 1 0 0 0 0 0 0 0 0 0 0 0 0 0 0 0 0 0]\n",
            " [0 0 0 0 0 0 0 2 0 0 0 0 0 0 0 0 0 0 0 0 0 0 0 0 0 0 0]\n",
            " [0 0 0 0 0 0 0 1 0 0 1 0 0 0 0 0 0 0 0 0 0 0 0 0 0 0 0]\n",
            " [0 0 0 0 0 0 0 0 0 1 0 2 1 0 0 0 0 0 0 0 0 0 0 0 0 0 0]\n",
            " [0 0 0 0 0 0 0 0 0 0 2 0 0 0 0 0 0 0 0 0 0 0 0 0 0 0 0]\n",
            " [0 0 0 0 0 0 0 0 0 0 1 0 0 1 0 0 0 0 0 0 0 0 0 0 0 0 0]\n",
            " [0 0 0 0 0 0 0 0 0 0 0 0 1 0 1 0 0 0 0 0 0 0 0 0 0 0 0]\n",
            " [0 0 0 0 0 0 0 0 0 0 0 0 0 1 0 4 0 0 0 0 0 0 4 0 0 0 0]\n",
            " [0 0 0 0 0 0 0 0 0 0 0 0 0 0 4 0 4 0 0 0 0 0 0 0 0 0 0]\n",
            " [0 0 0 0 0 0 0 0 0 0 0 0 0 0 0 4 0 1 0 4 0 0 0 0 0 0 0]\n",
            " [0 0 0 0 0 0 0 0 0 0 0 0 0 0 0 0 1 0 1 0 0 0 0 0 0 0 0]\n",
            " [0 0 0 0 0 0 0 0 0 0 0 0 0 0 0 0 0 1 0 0 0 0 0 0 0 0 0]\n",
            " [0 0 0 0 0 0 0 0 0 0 0 0 0 0 0 0 4 0 0 0 1 4 0 0 0 0 0]\n",
            " [0 0 0 0 0 0 0 0 0 0 0 0 0 0 0 0 0 0 0 1 0 0 0 0 0 0 0]\n",
            " [0 0 0 0 0 0 0 0 0 0 0 0 0 0 0 0 0 0 0 4 0 0 4 0 0 0 0]\n",
            " [0 0 0 0 0 0 0 0 0 0 0 0 0 0 4 0 0 0 0 0 0 4 0 0 0 0 0]\n",
            " [0 0 0 0 4 0 0 0 0 0 0 0 0 0 0 0 0 0 0 0 0 0 0 0 4 0 0]\n",
            " [0 0 0 0 0 0 0 0 0 0 0 0 0 0 0 0 0 0 0 0 0 0 0 4 0 4 0]\n",
            " [0 0 4 0 0 0 0 0 0 0 0 0 0 0 0 0 0 0 0 0 0 0 0 0 4 0 1]\n",
            " [0 0 0 0 0 0 0 0 0 0 0 0 0 0 0 0 0 0 0 0 0 0 0 0 0 1 0]]\n",
            "Shape of adjacency matrix: (27, 27)\n",
            "--------------------------------------------------------\n",
            "Total number of saved graphs:  5\n"
          ]
        }
      ]
    },
    {
      "cell_type": "markdown",
      "source": [
        "When we read the previous saved file, we create Spektral Dataset of Spektral Graphs which we will use as input for our GNNs"
      ],
      "metadata": {
        "id": "CCoCR0ze3ZKu"
      }
    },
    {
      "cell_type": "code",
      "source": [
        "def create_graph_spectral(x, a, m_name):\n",
        "    return Graph(x=x, a=a, molecule_name=m_name)\n",
        "\n",
        "class MolecularDataset(Dataset):\n",
        "    def __init__(self, file_path, **kwargs):\n",
        "        self.file_path = file_path\n",
        "        super().__init__(**kwargs)\n",
        "\n",
        "    def read(self):\n",
        "        graphs = []\n",
        "        labels = []\n",
        "        with h5py.File(self.file_path, 'r') as f:\n",
        "            for i in range(len(f.keys())):\n",
        "                grp = f[f'graph_{i}']\n",
        "\n",
        "                x = grp['x'][:] #list of node features\n",
        "                a = grp['a'][:] #adjacency matrix\n",
        "                m_name = grp.attrs['molecule_name']\n",
        "                y_label = grp['y'][()]#label (numeric)\n",
        "                graph = create_graph_spectral(x, a, m_name)\n",
        "                graphs.append(graph)\n",
        "                labels.append(y_label)\n",
        "\n",
        "        return graphs, labels"
      ],
      "metadata": {
        "id": "r0Ar0VlNnv9K"
      },
      "execution_count": 30,
      "outputs": []
    },
    {
      "cell_type": "code",
      "source": [
        "\n",
        "def read_molecule_data(filename):\n",
        "    dataset = MolecularDataset(filename)\n",
        "    graphs, labels = dataset.read()\n",
        "    return graphs, labels"
      ],
      "metadata": {
        "id": "k7v4XPrI0X7U"
      },
      "execution_count": 31,
      "outputs": []
    },
    {
      "cell_type": "code",
      "source": [
        "g, l = read_molecule_data(file_path)"
      ],
      "metadata": {
        "colab": {
          "base_uri": "https://localhost:8080/"
        },
        "id": "NprpqrGI0Q8u",
        "outputId": "5037125b-14a5-46c0-a4e2-b13fc08f76a5"
      },
      "execution_count": 32,
      "outputs": [
        {
          "output_type": "stream",
          "name": "stderr",
          "text": [
            "/usr/local/lib/python3.10/dist-packages/spektral/data/dataset.py:120: UserWarning: The graphs in this dataset have no adjacency matrix. Is this intentional?\n",
            "  warnings.warn(\n"
          ]
        }
      ]
    },
    {
      "cell_type": "code",
      "source": [
        "print(type(g[i])) #Spektral Graph\n",
        "print(g[i].x.shape) #shape of graph embedding\n",
        "print(l[i]) #numeric label (0:active, 1:partially active, 2: active)"
      ],
      "metadata": {
        "colab": {
          "base_uri": "https://localhost:8080/"
        },
        "id": "yCKLy_7H2LIe",
        "outputId": "a7f4b269-35a9-48f1-9868-81efc1ea8433"
      },
      "execution_count": 33,
      "outputs": [
        {
          "output_type": "stream",
          "name": "stdout",
          "text": [
            "<class 'spektral.data.graph.Graph'>\n",
            "(27, 117)\n",
            "1\n"
          ]
        }
      ]
    },
    {
      "cell_type": "markdown",
      "source": [
        "Now we will show the architectures of two of our four models (spektral and tensorflow layers are used)"
      ],
      "metadata": {
        "id": "eFAL1vTj3rKX"
      }
    },
    {
      "cell_type": "code",
      "source": [
        "import tensorflow as tf\n",
        "from spektral.layers import GCNConv, GlobalMaxPool, GraphSageConv, GlobalAvgPool, GlobalMaxPool\n",
        "from tensorflow.keras.layers import Dense, Dropout,  BatchNormalization\n",
        "from tensorflow.keras import Model\n",
        "from tensorflow.keras.utils import to_categorical\n",
        "from sklearn.model_selection import train_test_split\n",
        "from spektral.data import DisjointLoader"
      ],
      "metadata": {
        "id": "aCRAlktY4WnY"
      },
      "execution_count": 34,
      "outputs": []
    },
    {
      "cell_type": "code",
      "source": [
        "class GCN(Model):\n",
        "    def __init__(self, num_features, num_labels, hidden_units, dense_units, dropout_rate):\n",
        "        super(GCN, self).__init__()\n",
        "        self.conv1 = GCNConv(hidden_units, activation='relu')\n",
        "        self.conv2 = GCNConv(hidden_units, activation='relu')\n",
        "        self.conv3 = GCNConv(hidden_units, activation='relu')\n",
        "        self.global_pool = GlobalMaxPool()\n",
        "\n",
        "        self.dropout2 = Dropout(dropout_rate)\n",
        "        self.dense1 = Dense(dense_units[0], activation='relu',\n",
        "                            kernel_regularizer=tf.keras.regularizers.l2(0.01))\n",
        "\n",
        "        self.dense2 = Dense(dense_units[1], activation='relu',\n",
        "                            kernel_regularizer=tf.keras.regularizers.l2(0.01))\n",
        "\n",
        "        self.output_layer = Dense(num_labels, activation='softmax')\n",
        "\n",
        "    def call(self, inputs, training=False):\n",
        "        x, a = inputs\n",
        "        x = self.conv1([x, a])\n",
        "        x = self.dropout2(x, training=training)\n",
        "\n",
        "        x = self.conv2([x, a])\n",
        "        x = self.conv3([x, a])\n",
        "        x = tf.reduce_mean(x, axis=1)\n",
        "        x = self.dense1(x)\n",
        "        x = self.dense2(x)\n",
        "        output = self.output_layer(x)\n",
        "\n",
        "        return output"
      ],
      "metadata": {
        "id": "PuZBpAPv37rR"
      },
      "execution_count": 35,
      "outputs": []
    },
    {
      "cell_type": "code",
      "source": [
        "class GraphSageModel(Model):\n",
        "    def __init__(self, num_node_features, num_classes, hidden_units, dense_units, dropout_rate, **kwargs):\n",
        "        super().__init__(**kwargs)\n",
        "        self.conv1 = GraphSageConv(hidden_units, agregate='mean', activation='relu')\n",
        "        self.bn1 = BatchNormalization()\n",
        "        self.dropout1 = Dropout(dropout_rate)\n",
        "\n",
        "        self.conv2 = GraphSageConv(hidden_units, agregate='mean', activation='relu')\n",
        "        self.bn2 = BatchNormalization()\n",
        "        self.conv3 = GraphSageConv(hidden_units, agregate='mean', activation='relu')\n",
        "        self.bn3 = BatchNormalization()\n",
        "\n",
        "        self.pool = GlobalAvgPool()\n",
        "        self.flatten = tf.keras.layers.Flatten()\n",
        "        self.dropout2= Dropout(dropout_rate)\n",
        "        self.dense1 = Dense(dense_units[0], activation='relu')\n",
        "        self.dense2 = Dense(dense_units[1], activation='relu', kernel_regularizer=tf.keras.regularizers.l2(0.01))\n",
        "        self.output_layer = Dense(num_classes, activation='softmax')\n",
        "\n",
        "    def call(self, inputs, training=False):\n",
        "        print(len(inputs))\n",
        "        x, sparse_a, i = inputs\n",
        "        x = self.conv1([x, sparse_a])\n",
        "        x = self.bn1(x, training=training)\n",
        "        x = self.dropout1(x, training=training)\n",
        "\n",
        "        x = self.conv2([x, sparse_a])\n",
        "        x = self.bn2(x, training=training)\n",
        "        x = self.conv3([x, sparse_a])\n",
        "        x = self.bn3(x, training=training)\n",
        "        x = self.pool([x, i])\n",
        "        x = self.flatten(x)\n",
        "        x = self.dropout2(x, training=training)\n",
        "        x = self.dense1(x)\n",
        "        x = self.dense2(x)\n",
        "        output = self.output_layer(x)\n",
        "        return output\n",
        "\n"
      ],
      "metadata": {
        "id": "jNw1MX4F4RZS"
      },
      "execution_count": 36,
      "outputs": []
    },
    {
      "cell_type": "markdown",
      "source": [
        "Below is an example of data preparation for GraphSage model training"
      ],
      "metadata": {
        "id": "dzbE9fS-6htF"
      }
    },
    {
      "cell_type": "code",
      "source": [
        "X_train, X_test, y_train, y_test = train_test_split(g, l, test_size=0.2, random_state=42, stratify=labels)\n",
        "print(\"Data is splited into train and test. (80:20), same for validation.\")\n",
        "\n",
        "X_train, X_val, y_train, y_val = train_test_split(X_train, y_train, test_size=0.2, random_state=42, stratify = y_train)\n",
        "print(f\"Num instances in x_train {len(X_train)}\")\n",
        "print(f\"Num of instances in x_val {len(X_val)}\")\n",
        "print(f\"Num of instances in x_test {len(X_test)}\")\n"
      ],
      "metadata": {
        "colab": {
          "base_uri": "https://localhost:8080/"
        },
        "id": "xffQIWUO5FNg",
        "outputId": "a61b5cdd-4ef9-402d-9004-968bd727f13c"
      },
      "execution_count": 37,
      "outputs": [
        {
          "output_type": "stream",
          "name": "stdout",
          "text": [
            "Data is splited into train and test. (80:20), same for validation.\n",
            "Num instances in x_train 3\n",
            "Num of instances in x_val 1\n",
            "Num of instances in x_test 1\n"
          ]
        }
      ]
    },
    {
      "cell_type": "code",
      "source": [
        "# Convert labels into one-hot format\n",
        "num_labels =3\n",
        "y_train = to_categorical(y_train, num_classes=num_labels)\n",
        "y_val = to_categorical(y_val, num_classes=num_labels)\n",
        "y_test = to_categorical(y_test, num_classes=num_labels)"
      ],
      "metadata": {
        "id": "YtKDcT4z5sNA"
      },
      "execution_count": 38,
      "outputs": []
    },
    {
      "cell_type": "code",
      "source": [
        "print(y_train.shape)"
      ],
      "metadata": {
        "colab": {
          "base_uri": "https://localhost:8080/"
        },
        "id": "5LJ2hUZT9JNF",
        "outputId": "6b70b30b-36cf-4c8b-fc71-712f67ab8fe7"
      },
      "execution_count": 39,
      "outputs": [
        {
          "output_type": "stream",
          "name": "stdout",
          "text": [
            "(3, 3)\n"
          ]
        }
      ]
    },
    {
      "cell_type": "code",
      "source": [
        "class MyDataset(Dataset):\n",
        "    def __init__(self, graphs, labels, **kwargs):\n",
        "        self.graphs = graphs\n",
        "        self.labels = labels\n",
        "        print(f\"Loaded {len(self.graphs)} graphs\")\n",
        "        super().__init__(**kwargs)\n",
        "\n",
        "    def read(self):\n",
        "        output = []\n",
        "        for i in range(len(self.graphs)):\n",
        "            output.append(\n",
        "            Graph(x=self.graphs[i].x, a=self.graphs[i].a, y=self.labels[i],\n",
        "                  molecule_name = self.graphs[i].get('molecule_name')))\n",
        "        return output"
      ],
      "metadata": {
        "id": "oOtlGa6R57pN"
      },
      "execution_count": 40,
      "outputs": []
    },
    {
      "cell_type": "code",
      "source": [
        "print(\"Creating spektral dataset of splited data...\")\n",
        "train_dataset = MyDataset(X_train, y_train)\n",
        "val_dataset = MyDataset(X_val, y_val)\n",
        "test_dataset = MyDataset(X_test, y_test)"
      ],
      "metadata": {
        "colab": {
          "base_uri": "https://localhost:8080/"
        },
        "id": "Q47hO8nO5-SJ",
        "outputId": "50a9d6f7-eee0-4bbb-dcee-6c07d33a1117"
      },
      "execution_count": 41,
      "outputs": [
        {
          "output_type": "stream",
          "name": "stdout",
          "text": [
            "Creating spektral dataset of splited data...\n",
            "Loaded 3 graphs\n",
            "Loaded 1 graphs\n",
            "Loaded 1 graphs\n"
          ]
        }
      ]
    },
    {
      "cell_type": "markdown",
      "source": [
        "Disjoint batch loaders create batches of independent graphs by concatenating their features and adjacency matrices while keeping their structures separate. This is useful for efficiently training on datasets with multiple unrelated graphs, like molecules or networks."
      ],
      "metadata": {
        "id": "pXV4fZc_6ft5"
      }
    },
    {
      "cell_type": "code",
      "source": [
        "batch_size = 60 #The batch size was set to 60 as calculated by Optuna\n",
        "train_loader = DisjointLoader(train_dataset, batch_size=batch_size)\n",
        "val_loader = DisjointLoader(val_dataset, batch_size=batch_size)\n",
        "test_loader = DisjointLoader(test_dataset, batch_size=batch_size)"
      ],
      "metadata": {
        "id": "DSJE-hfN6OBC"
      },
      "execution_count": 42,
      "outputs": []
    },
    {
      "cell_type": "code",
      "source": [
        "num_features = 117  # the number of features per each node\n",
        "hidden_units = 99  # Number of hidden units in the GraphSAGE layer\n",
        "dense_units = [93, 241]  # Number of units in the dense (fully connected) layers\n",
        "dropout_rate = 0.21  # Dropout rate to prevent overfitting\n"
      ],
      "metadata": {
        "id": "Z_eo4KmU65Fn"
      },
      "execution_count": 43,
      "outputs": []
    },
    {
      "cell_type": "code",
      "source": [
        "model = GraphSageModel(num_features, num_labels, hidden_units, dense_units, dropout_rate)\n"
      ],
      "metadata": {
        "id": "RP_5LhsW7PTS"
      },
      "execution_count": 44,
      "outputs": []
    },
    {
      "cell_type": "markdown",
      "source": [
        "Adding various callbacks such as learning rate scheduler, early stopping, and F1 score callback"
      ],
      "metadata": {
        "id": "cHmpO9m57iFz"
      }
    },
    {
      "cell_type": "code",
      "source": [
        "#custom call back for f1-score\n",
        "class F1ScoreCallback(tf.keras.callbacks.Callback):\n",
        "    def on_epoch_end(self, epoch, logs=None):\n",
        "        logs = logs or {}\n",
        "        val_f1 = logs.get('val_f1_score')\n",
        "        if val_f1 is not None:\n",
        "            print(f'\\nEpoch {epoch + 1}: val_f1_score = {val_f1:.4f}')"
      ],
      "metadata": {
        "id": "G4pKZPyH71fY"
      },
      "execution_count": 45,
      "outputs": []
    },
    {
      "cell_type": "code",
      "source": [
        "def scheduler(epoch, lr):\n",
        "    if epoch < 5:\n",
        "        return lr\n",
        "    else:\n",
        "        return lr * tf.math.exp(-0.1)\n",
        "\n",
        "lr_scheduler = tf.keras.callbacks.LearningRateScheduler(scheduler)\n",
        "early_stopping = tf.keras.callbacks.EarlyStopping(monitor='val_loss', patience=5, restore_best_weights=True)\n",
        "f1_score_callback = F1ScoreCallback()\n"
      ],
      "metadata": {
        "id": "c6R2qsGL7wX-"
      },
      "execution_count": 46,
      "outputs": []
    },
    {
      "cell_type": "code",
      "source": [
        "from tensorflow.keras import backend as K\n",
        "from tensorflow.keras.metrics import AUC\n",
        "\n",
        "def f1_score(y_true, y_pred):\n",
        "    y_pred = K.round(y_pred)\n",
        "    tp = K.sum(K.cast(y_true * y_pred, 'float'), axis=0)\n",
        "    fp = K.sum(K.cast((1 - y_true) * y_pred, 'float'), axis=0)\n",
        "    fn = K.sum(K.cast(y_true * (1 - y_pred), 'float'), axis=0)\n",
        "\n",
        "    p = tp / (tp + fp + K.epsilon())\n",
        "    r = tp / (tp + fn + K.epsilon())\n",
        "\n",
        "    f1 = 2 * p * r / (p + r + K.epsilon())\n",
        "    return K.mean(f1)"
      ],
      "metadata": {
        "id": "j2VIlBoU744c"
      },
      "execution_count": 47,
      "outputs": []
    },
    {
      "cell_type": "code",
      "source": [
        "model.compile(tf.keras.optimizers.Adam(learning_rate=0.00035), #lr po optuna proracunu\n",
        "              loss='categorical_crossentropy',\n",
        "              metrics=['accuracy',\n",
        "                       f1_score,\n",
        "                       AUC(name='roc_auc', multi_label=True),\n",
        "                    AUC(curve='PR', name='average_precision')])\n",
        ""
      ],
      "metadata": {
        "id": "ba3G3v408GjY"
      },
      "execution_count": 48,
      "outputs": []
    },
    {
      "cell_type": "code",
      "source": [
        "import math\n",
        "from sklearn.utils.class_weight import compute_class_weight"
      ],
      "metadata": {
        "id": "ahuP_TEr8P8G"
      },
      "execution_count": 49,
      "outputs": []
    },
    {
      "cell_type": "code",
      "source": [
        "y_train_labels = np.argmax(y_train, axis=1)\n",
        "print(y_train_labels.shape)"
      ],
      "metadata": {
        "colab": {
          "base_uri": "https://localhost:8080/"
        },
        "id": "cm2CF_Qm8o7K",
        "outputId": "9e097ebb-be61-4201-906a-59d9330bff89"
      },
      "execution_count": 50,
      "outputs": [
        {
          "output_type": "stream",
          "name": "stdout",
          "text": [
            "(3,)\n"
          ]
        }
      ]
    },
    {
      "cell_type": "markdown",
      "source": [
        "Calculates the class weights using the compute_class_weight function with the 'balanced' option, which adjusts the weights inversely proportional to the class frequencies in the training data. It then converts the resulting class weights into a dictionary, where the keys are the class indices, and the values are the corresponding computed weights."
      ],
      "metadata": {
        "id": "pHGgwKZJ9rP1"
      }
    },
    {
      "cell_type": "code",
      "source": [
        "\n",
        "class_weights = compute_class_weight('balanced', classes=np.unique(y_train_labels), y=y_train_labels)\n",
        "class_weights_dict = dict(enumerate(class_weights))\n",
        "\n",
        "train_steps_per_epoch = math.ceil(len(X_train) / batch_size)\n",
        "val_steps_per_epoch = math.ceil(len(X_val) / batch_size)"
      ],
      "metadata": {
        "id": "Q1JuXGfQ8N0c"
      },
      "execution_count": 51,
      "outputs": []
    },
    {
      "cell_type": "markdown",
      "source": [
        "Example of code for model train"
      ],
      "metadata": {
        "id": "5osUffOTCB20"
      }
    },
    {
      "cell_type": "code",
      "source": [
        "\"\"\"\n",
        "history = model.fit(\n",
        "    train_loader,\n",
        "    validation_data=val_loader,\n",
        "    epochs = 50,\n",
        "    steps_per_epoch=train_steps_per_epoch,\n",
        "    validation_steps=val_steps_per_epoch,\n",
        "    class_weight = class_weights_dict,\n",
        "    callbacks=[lr_scheduler, early_stopping, f1_score_callback]\n",
        ")\n",
        "\"\"\""
      ],
      "metadata": {
        "colab": {
          "base_uri": "https://localhost:8080/",
          "height": 53
        },
        "id": "wf4Wj6k05l6I",
        "outputId": "f86738d5-5f61-4dc1-8c35-022c658fb019"
      },
      "execution_count": 54,
      "outputs": [
        {
          "output_type": "execute_result",
          "data": {
            "text/plain": [
              "'\\nhistory = model.fit(\\n    train_loader,\\n    validation_data=val_loader,\\n    epochs = 50,\\n    steps_per_epoch=train_steps_per_epoch,\\n    validation_steps=val_steps_per_epoch,\\n    class_weight = class_weights_dict,\\n    callbacks=[lr_scheduler, early_stopping, f1_score_callback]\\n)\\n'"
            ],
            "application/vnd.google.colaboratory.intrinsic+json": {
              "type": "string"
            }
          },
          "metadata": {},
          "execution_count": 54
        }
      ]
    },
    {
      "cell_type": "markdown",
      "source": [
        "# RESULTS"
      ],
      "metadata": {
        "id": "St2WeJW2CIQV"
      }
    },
    {
      "cell_type": "markdown",
      "source": [
        "Train and valid loss, accuracy, f1-score, roc-auc and average precision during training"
      ],
      "metadata": {
        "id": "caBPHF8XOZJa"
      }
    },
    {
      "cell_type": "code",
      "source": [
        "def loss_epoch(history_df, title):\n",
        "    plt.figure(figsize=(10, 6))\n",
        "\n",
        "    plt.plot(history_df['loss'], label='Train loss')\n",
        "    plt.plot(history_df['val_loss'], label='Valid loss')\n",
        "    plt.xlabel('Epoch')\n",
        "    plt.ylabel('Loss')\n",
        "    plt.title(f'Loss through epochs {title}')\n",
        "    plt.legend()\n",
        "    plt.grid()\n",
        "\n",
        "    plt.show()"
      ],
      "metadata": {
        "id": "_pkhbE6WCJz0"
      },
      "execution_count": 61,
      "outputs": []
    },
    {
      "cell_type": "code",
      "source": [
        "def acc_epochs(history_df, title):\n",
        "    plt.figure(figsize=(10, 6))\n",
        "    plt.plot(history_df['accuracy'], label='Train accuracy')\n",
        "    plt.plot(history_df['val_accuracy'], label='Valid accuracy')\n",
        "    plt.xlabel('Epoch')\n",
        "    plt.ylabel('Accuracy')\n",
        "    plt.title(f'Accuracy through epochs {title}')\n",
        "    plt.legend()\n",
        "    plt.grid()\n",
        "    plt.show()"
      ],
      "metadata": {
        "id": "Sc071fTzOXcD"
      },
      "execution_count": 62,
      "outputs": []
    },
    {
      "cell_type": "code",
      "source": [
        "def f1_score(history, title):\n",
        "    plt.figure(figsize=(10, 6))\n",
        "    plt.plot(history['f1_score'], label='F1-score train')\n",
        "    plt.plot(history['val_f1_score'], label='F1-score valid')\n",
        "    plt.title('F1-score through epochs {title}')\n",
        "    plt.xlabel('Epoch')\n",
        "    plt.ylabel('F1-score')\n",
        "    plt.legend()\n",
        "    plt.grid()\n",
        "    plt.show()"
      ],
      "metadata": {
        "id": "pQwWhtZZOo0R"
      },
      "execution_count": 64,
      "outputs": []
    },
    {
      "cell_type": "code",
      "source": [
        "def roc_auc(history, title):\n",
        "    plt.figure(figsize=(10, 6))\n",
        "    plt.plot(history['roc_auc'], label='ROC AUC train')\n",
        "    plt.plot(history['val_roc_auc'], label='ROC AUC valid')\n",
        "    plt.title(f'ROC AUC through epochs {title}')\n",
        "    plt.xlabel('Epoch')\n",
        "    plt.ylabel('ROC AUC')\n",
        "    plt.legend()\n",
        "    plt.grid()\n",
        "\n",
        "    plt.show()"
      ],
      "metadata": {
        "id": "BTNzXzAIO02n"
      },
      "execution_count": 65,
      "outputs": []
    },
    {
      "cell_type": "code",
      "source": [
        "def average_prec_epochs(history_df, title):\n",
        "    plt.figure(figsize=(10, 6))\n",
        "    plt.plot(history_df['average_precision'], label='Train average presicion')\n",
        "    plt.plot(history_df['val_average_precision'], label='Valid average precision')\n",
        "    plt.xlabel('Epoch')\n",
        "    plt.ylabel('Average precision')\n",
        "    plt.title(f'Average precision through epochs {title}')\n",
        "    plt.legend()\n",
        "    plt.grid()\n",
        "    plt.show()"
      ],
      "metadata": {
        "id": "xFwdRNqoPexc"
      },
      "execution_count": 66,
      "outputs": []
    },
    {
      "cell_type": "code",
      "source": [
        "train_history_graphSage= pd.read_csv('results/gSage_train_history.csv')"
      ],
      "metadata": {
        "id": "P8rybZU2PuE4"
      },
      "execution_count": null,
      "outputs": []
    }
  ],
  "metadata": {
    "kernelspec": {
      "display_name": "Python 3",
      "language": "python",
      "name": "python3"
    },
    "language_info": {
      "codemirror_mode": {
        "name": "ipython",
        "version": 3
      },
      "file_extension": ".py",
      "mimetype": "text/x-python",
      "name": "python",
      "nbconvert_exporter": "python",
      "pygments_lexer": "ipython3",
      "version": "3.9.4"
    },
    "colab": {
      "provenance": []
    }
  },
  "nbformat": 4,
  "nbformat_minor": 0
}