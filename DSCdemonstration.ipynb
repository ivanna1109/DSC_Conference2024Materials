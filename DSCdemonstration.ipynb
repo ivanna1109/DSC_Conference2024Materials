{
 "cells": [
  {
   "cell_type": "markdown",
   "metadata": {},
   "source": [
    "## Comparing GNN Approaches in Molecule Identification"
   ]
  },
  {
   "cell_type": "markdown",
   "metadata": {},
   "source": [
    "Firstly, we will show how original data downloaded from CompTox database via scrapping tehnique is converted into graph format"
   ]
  },
  {
   "cell_type": "code",
   "execution_count": 25,
   "metadata": {},
   "outputs": [],
   "source": [
    "from rdkit import Chem\n",
    "import networkx as nx\n",
    "import matplotlib.pyplot as plt\n",
    "import pandas as pd\n",
    "import numpy as np\n",
    "from rdkit.Chem import AllChem\n",
    "from rdkit import DataStructs\n",
    "from rdkit.Chem import Draw\n",
    "from rdkit import Chem, DataStructs"
   ]
  },
  {
   "cell_type": "markdown",
   "metadata": {},
   "source": [
    "Cloning github repository where the original data is"
   ]
  },
  {
   "cell_type": "code",
   "execution_count": 4,
   "metadata": {},
   "outputs": [],
   "source": [
    "assays = [\n",
    "    \"ATG_PPARg_TRANS_dn\", \n",
    "    \"ATG_PPARg_TRANS_up\", \n",
    "    \"TOX21_PPARg_BLA_antagonist_ratio\", \n",
    "    \"TOX21_PPARg_BLA_Agonist_ratio\", \n",
    "    \"NVS_NR_hPPARg\", \n",
    "    \"ERF_ENZ_hCYP19A1_dn\", \n",
    "    \"NVS_ADME_hCYP19A1\", \n",
    "    \"NVS_ADME_hCYP19A1_Activator\", \n",
    "    \"TOX21_Aromatase_Inhibition\", \n",
    "    \"CEETOX_H295R_ESTRADIOL_dn\", \n",
    "    \"CEETOX_H295R_ESTRADIOL_noMTC_dn\", \n",
    "    \"CEETOX_H295R_ESTRADIOL_noMTC_up\", \n",
    "    \"CEETOX_H295R_ESTRADIOL_up\", \n",
    "    \"CEETOX_H295R_ESTRONE_dn\", \n",
    "    \"CEETOX_H295R_ESTRONE_noMTC_dn\", \n",
    "    \"CEETOX_H295R_ESTRONE_noMTC_up\", \n",
    "    \"CEETOX_H295R_ESTRONE_up\"\n",
    "]\n",
    "\n",
    "effects = [\n",
    "    \"dn\",\n",
    "    \"up\",\n",
    "    \"dn\",\n",
    "    \"up\",\n",
    "    \"dn\",\n",
    "    \"dn\",\n",
    "    \"dn\",\n",
    "    \"up\",\n",
    "    \"dn\",\n",
    "    \"dn\",\n",
    "    \"dn\",\n",
    "    \"up\",\n",
    "    \"up\",\n",
    "    \"dn\",\n",
    "    \"dn\",\n",
    "    \"up\",\n",
    "    \"up\"    \n",
    "]"
   ]
  },
  {
   "cell_type": "markdown",
   "metadata": {},
   "source": [
    "This code processes data on various biochemical tests (assays) and their results, combining them into several DataFrames. It also prepares data on SMILES strings (representations of molecules) and removes duplicates. In the end, we obtain a list of DataFrames (dfs) and a consolidated DataFrame with SMILES data (smiles)."
   ]
  },
  {
   "cell_type": "code",
   "execution_count": 5,
   "metadata": {},
   "outputs": [],
   "source": [
    "# find all matching\n",
    "\n",
    "dfs = []\n",
    "smiles = []\n",
    "\n",
    "for assay, effect in zip(assays, effects):\n",
    "    path = f\"data/{assay}.csv\"\n",
    "    df = pd.read_csv(path)\n",
    "    # print(df[\"smiles\"].isnull().sum())\n",
    "    \n",
    "    s = df[[\"preferredName\", \"smiles\"]].copy()\n",
    "    s.index = s[\"preferredName\"]\n",
    "    del s[\"preferredName\"]\n",
    "    smiles.append(s)\n",
    "    \n",
    "    df = df[[\"preferredName\", \"hitc\"]] # only leave these two columns\n",
    "    \n",
    "    df = df[df[\"hitc\"] != -1] # 22.9.2022.: remove inconclusive results\n",
    "    \n",
    "    df[f\"effect_{assay}\"] = -1 if effect == \"dn\" else 1\n",
    "    \n",
    "    df[\"hitc\"] *= df[f\"effect_{assay}\"]\n",
    "    \n",
    "    del df[f\"effect_{assay}\"]\n",
    "    \n",
    "    df.index = df[\"preferredName\"] \n",
    "    del df[\"preferredName\"] # set index to name and remove the column name\n",
    "    df.columns = [assay] # set type (only remaining column) to name of assay\n",
    "    \n",
    "    dfs.append(df)\n",
    "\n",
    "# save for later\n",
    "smiles = pd.concat(smiles, axis=0)\n",
    "smiles = smiles[~smiles.index.duplicated(keep='first')]"
   ]
  },
  {
   "cell_type": "code",
   "execution_count": 7,
   "metadata": {},
   "outputs": [
    {
     "data": {
      "text/plain": [
       "smiles    0\n",
       "dtype: int64"
      ]
     },
     "execution_count": 7,
     "metadata": {},
     "output_type": "execute_result"
    }
   ],
   "source": [
    "smiles.isnull().sum() # should be zero, all smiles are fixed"
   ]
  },
  {
   "cell_type": "code",
   "execution_count": 9,
   "metadata": {},
   "outputs": [
    {
     "data": {
      "text/plain": [
       "CEETOX_H295R_ESTRADIOL_up\n",
       "0                            514\n",
       "1                             58\n",
       "Name: count, dtype: int64"
      ]
     },
     "execution_count": 9,
     "metadata": {},
     "output_type": "execute_result"
    }
   ],
   "source": [
    "dfs[12].value_counts() #example of one csv file in dataset"
   ]
  },
  {
   "cell_type": "markdown",
   "metadata": {},
   "source": [
    "Method for converting smiles representation of molecule into graph structure"
   ]
  },
  {
   "cell_type": "code",
   "execution_count": 21,
   "metadata": {},
   "outputs": [],
   "source": [
    "\n",
    "def smiles_to_graph(smiles_str, label):\n",
    "    mol = Chem.MolFromSmiles(smiles_str)\n",
    "    label_type = {\n",
    "        0: 'inactive',\n",
    "        1: 'partially active',\n",
    "        2: 'active'\n",
    "    }\n",
    "    G = nx.Graph(label=label_type.get(label, -1))\n",
    "\n",
    "    bond_type_mapping = {\n",
    "        Chem.BondType.SINGLE: 1,\n",
    "        Chem.BondType.DOUBLE: 2,\n",
    "        Chem.BondType.TRIPLE: 3,\n",
    "        Chem.BondType.AROMATIC: 4\n",
    "    }\n",
    "\n",
    "    for atom in mol.GetAtoms():\n",
    "        atom_idx = atom.GetIdx()\n",
    "        atom_symbol = atom.GetSymbol()\n",
    "        #print(f\"Simbol atoma {atom_symbol}\")\n",
    "        atom_degree = atom.GetDegree()\n",
    "        G.add_node(atom_idx, atom_label=str(atom_symbol), degree=atom_degree)\n",
    "\n",
    "    for bond in mol.GetBonds():\n",
    "        bond_type = bond.GetBondType()\n",
    "        encoded_bond_type = bond_type_mapping.get(bond_type, 0)  \n",
    "        G.add_edge(bond.GetBeginAtomIdx(), bond.GetEndAtomIdx(), weight=encoded_bond_type, bond_type=encoded_bond_type)\n",
    "\n",
    "    return G"
   ]
  },
  {
   "cell_type": "code",
   "execution_count": 30,
   "metadata": {},
   "outputs": [],
   "source": [
    "graphs_list = list()\n",
    "bad_smiles = []"
   ]
  },
  {
   "cell_type": "code",
   "execution_count": 29,
   "metadata": {},
   "outputs": [],
   "source": [
    "def get_graph(row):\n",
    "    print(\"Processing row:\", row)\n",
    "    try:\n",
    "        molecule_label = 'active'\n",
    "        if row.label == 0: molecule_label = 'inactive'\n",
    "        elif row.label == 1: molecule_label = 'partially_active'\n",
    "        sm = smiles.loc[row.name, 'smiles']\n",
    "        print(f\"SMILES for {row.name} which is {molecule_label}: {sm}\")\n",
    "        \n",
    "        if pd.isna(sm):\n",
    "            raise ValueError(\"SMILES string is NaN\")\n",
    "        graph = smiles_to_graph(sm, row.label)\n",
    "        graphs_list.append(graph)\n",
    "        return graph\n",
    "        \"\"\" all molecules are saved into separate gml files\n",
    "        gml_file = f\"molecules/molecule_{row.name}_{row.label}.gml\"\n",
    "        nx.write_gml(graph_smile, gml_file)\n",
    "        print(f\"Graf za {sm} sačuvan je u {gml_file}\")\n",
    "        \"\"\"\n",
    "    except Exception as e:\n",
    "        print(f\"Bad smiles string for {row.name}: {e}\")\n",
    "        bad_smiles.append(row.name)"
   ]
  },
  {
   "cell_type": "code",
   "execution_count": 26,
   "metadata": {},
   "outputs": [],
   "source": [
    "def visualize_graph(G):\n",
    "    plt.figure(figsize=(12, 6))\n",
    "    pos = nx.planar_layout(G) \n",
    "\n",
    "    nx.draw_networkx(G, pos, with_labels=False, node_color='lightblue', node_size=500, edge_color='gray')\n",
    "\n",
    "    node_labels = nx.get_node_attributes(G, 'atom_label')\n",
    "    nx.draw_networkx_labels(G, pos, labels=node_labels, font_size=12, font_color='black')\n",
    "\n",
    "    edge_labels = nx.get_edge_attributes(G, 'bond_type')\n",
    "    edge_labels_str = {\n",
    "        (u, v): {1: \"S\", 2: \"D\", 3: \"T\", 4: \"A\"}.get(edge_labels[(u, v)], \"Unknown\")\n",
    "        for u, v in edge_labels\n",
    "    }\n",
    "    nx.draw_networkx_edge_labels(G, pos, edge_labels=edge_labels_str, font_color='red')\n",
    "\n",
    "    graph_label = G.graph.get('label', 'No Label')\n",
    "    plt.text(0.5, 1.05, f\"Label: {graph_label}\", fontsize=15, ha='center', transform=plt.gca().transAxes)\n",
    "\n",
    "    plt.show()"
   ]
  },
  {
   "cell_type": "code",
   "execution_count": 31,
   "metadata": {},
   "outputs": [
    {
     "name": "stdout",
     "output_type": "stream",
     "text": [
      "label\n",
      "0.0    21095\n",
      "2.0     1320\n",
      "1.0     1066\n",
      "Name: count, dtype: int64\n",
      "label\n",
      "0.0    7306\n",
      "1.0    1302\n",
      "2.0       3\n",
      "Name: count, dtype: int64\n",
      "Processing row: label    1.0\n",
      "Name: Tetrahydrocurcumin, dtype: float64\n",
      "SMILES for Tetrahydrocurcumin which is partially_active: COC1=CC(CCC(=O)CC(=O)CCC2=CC(OC)=C(O)C=C2)=CC=C1O\n"
     ]
    },
    {
     "name": "stderr",
     "output_type": "stream",
     "text": [
      "C:\\Users\\Ivana\\AppData\\Local\\Temp\\ipykernel_484\\1430130886.py:9: SettingWithCopyWarning: \n",
      "A value is trying to be set on a copy of a slice from a DataFrame.\n",
      "Try using .loc[row_indexer,col_indexer] = value instead\n",
      "\n",
      "See the caveats in the documentation: https://pandas.pydata.org/pandas-docs/stable/user_guide/indexing.html#returning-a-view-versus-a-copy\n",
      "  assay[\"label\"] = np.where(assay[\"label\"] == 1, 2, assay[\"label\"]) # up\n",
      "C:\\Users\\Ivana\\AppData\\Local\\Temp\\ipykernel_484\\1430130886.py:10: SettingWithCopyWarning: \n",
      "A value is trying to be set on a copy of a slice from a DataFrame.\n",
      "Try using .loc[row_indexer,col_indexer] = value instead\n",
      "\n",
      "See the caveats in the documentation: https://pandas.pydata.org/pandas-docs/stable/user_guide/indexing.html#returning-a-view-versus-a-copy\n",
      "  assay[\"label\"] = np.where(assay[\"label\"] == -1, 1, assay[\"label\"]) # dn\n",
      "C:\\Users\\Ivana\\AppData\\Local\\Temp\\ipykernel_484\\1430130886.py:9: SettingWithCopyWarning: \n",
      "A value is trying to be set on a copy of a slice from a DataFrame.\n",
      "Try using .loc[row_indexer,col_indexer] = value instead\n",
      "\n",
      "See the caveats in the documentation: https://pandas.pydata.org/pandas-docs/stable/user_guide/indexing.html#returning-a-view-versus-a-copy\n",
      "  assay[\"label\"] = np.where(assay[\"label\"] == 1, 2, assay[\"label\"]) # up\n",
      "C:\\Users\\Ivana\\AppData\\Local\\Temp\\ipykernel_484\\1430130886.py:10: SettingWithCopyWarning: \n",
      "A value is trying to be set on a copy of a slice from a DataFrame.\n",
      "Try using .loc[row_indexer,col_indexer] = value instead\n",
      "\n",
      "See the caveats in the documentation: https://pandas.pydata.org/pandas-docs/stable/user_guide/indexing.html#returning-a-view-versus-a-copy\n",
      "  assay[\"label\"] = np.where(assay[\"label\"] == -1, 1, assay[\"label\"]) # dn\n"
     ]
    },
    {
     "data": {
      "image/png": "[encoded data removed]",
      "text/plain": [
       "<Figure size 1200x600 with 1 Axes>"
      ]
     },
     "metadata": {},
     "output_type": "display_data"
    },
    {
     "name": "stdout",
     "output_type": "stream",
     "text": [
      "ok: 1\n",
      "bad: []\n",
      "bad count: 0\n"
     ]
    }
   ],
   "source": [
    "plt_count = 1\n",
    "for assay, name in zip([pd.concat(dfs[0:5]), pd.concat(dfs[5:9]), pd.concat(dfs[9:17])],\n",
    "                       [\"ke1\", \"ke2\", \"ke3\"]):\n",
    "\n",
    "    assay[\"label\"] = assay.sum(axis=1)\n",
    "\n",
    "    assay = assay[[\"label\"]]\n",
    "        \n",
    "    assay[\"label\"] = np.where(assay[\"label\"] == 1, 2, assay[\"label\"]) # up\n",
    "    assay[\"label\"] = np.where(assay[\"label\"] == -1, 1, assay[\"label\"]) # dn\n",
    "    \n",
    "    print(assay[\"label\"].value_counts())\n",
    "\n",
    "    #assay.apply(lambda mol: get_graph(mol), axis=1)\n",
    "    molecule = assay.iloc[0]  # Take only one molecule for demonstration\n",
    "    if molecule.label == 1:\n",
    "        graph = get_graph(molecule)\n",
    "        visualize_graph(graph)\n",
    "\n",
    "        print(\"ok:\", len(graphs_list))\n",
    "        print(\"bad:\", bad_smiles)\n",
    "        print(\"bad count:\", len(bad_smiles))\n",
    "        break"
   ]
  }
 ],
 "metadata": {
  "kernelspec": {
   "display_name": "Python 3",
   "language": "python",
   "name": "python3"
  },
  "language_info": {
   "codemirror_mode": {
    "name": "ipython",
    "version": 3
   },
   "file_extension": ".py",
   "mimetype": "text/x-python",
   "name": "python",
   "nbconvert_exporter": "python",
   "pygments_lexer": "ipython3",
   "version": "3.9.4"
  }
 },
 "nbformat": 4,
 "nbformat_minor": 2
}
